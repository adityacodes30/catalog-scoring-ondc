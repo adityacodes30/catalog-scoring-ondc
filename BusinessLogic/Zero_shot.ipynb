{
  "nbformat": 4,
  "nbformat_minor": 0,
  "metadata": {
    "colab": {
      "provenance": [],
      "authorship_tag": "ABX9TyNw/6MPj0TkEqHjO/qpxC60",
      "include_colab_link": true
    },
    "kernelspec": {
      "name": "python3",
      "display_name": "Python 3"
    },
    "language_info": {
      "name": "python"
    }
  },
  "cells": [
    {
      "cell_type": "markdown",
      "metadata": {
        "id": "view-in-github",
        "colab_type": "text"
      },
      "source": [
        "<a href=\"https://colab.research.google.com/github/payal15604/ONDC-Test/blob/main/Zero_shot.ipynb\" target=\"_parent\"><img src=\"https://colab.research.google.com/assets/colab-badge.svg\" alt=\"Open In Colab\"/></a>"
      ]
    },
    {
      "cell_type": "code",
      "execution_count": null,
      "metadata": {
        "colab": {
          "base_uri": "https://localhost:8080/"
        },
        "id": "_VW8XAyAeHSM",
        "outputId": "92439cf9-92bd-4e4f-acab-fde3701098f8"
      },
      "outputs": [
        {
          "output_type": "stream",
          "name": "stdout",
          "text": [
            "Requirement already satisfied: transformers in /usr/local/lib/python3.10/dist-packages (4.35.2)\n",
            "Collecting transformers\n",
            "  Downloading transformers-4.37.2-py3-none-any.whl (8.4 MB)\n",
            "\u001b[2K     \u001b[90m━━━━━━━━━━━━━━━━━━━━━━━━━━━━━━━━━━━━━━━━\u001b[0m \u001b[32m8.4/8.4 MB\u001b[0m \u001b[31m56.1 MB/s\u001b[0m eta \u001b[36m0:00:00\u001b[0m\n",
            "\u001b[?25hRequirement already satisfied: filelock in /usr/local/lib/python3.10/dist-packages (from transformers) (3.13.1)\n",
            "Requirement already satisfied: huggingface-hub<1.0,>=0.19.3 in /usr/local/lib/python3.10/dist-packages (from transformers) (0.20.3)\n",
            "Requirement already satisfied: numpy>=1.17 in /usr/local/lib/python3.10/dist-packages (from transformers) (1.23.5)\n",
            "Requirement already satisfied: packaging>=20.0 in /usr/local/lib/python3.10/dist-packages (from transformers) (23.2)\n",
            "Requirement already satisfied: pyyaml>=5.1 in /usr/local/lib/python3.10/dist-packages (from transformers) (6.0.1)\n",
            "Requirement already satisfied: regex!=2019.12.17 in /usr/local/lib/python3.10/dist-packages (from transformers) (2023.12.25)\n",
            "Requirement already satisfied: requests in /usr/local/lib/python3.10/dist-packages (from transformers) (2.31.0)\n",
            "Requirement already satisfied: tokenizers<0.19,>=0.14 in /usr/local/lib/python3.10/dist-packages (from transformers) (0.15.1)\n",
            "Requirement already satisfied: safetensors>=0.4.1 in /usr/local/lib/python3.10/dist-packages (from transformers) (0.4.2)\n",
            "Requirement already satisfied: tqdm>=4.27 in /usr/local/lib/python3.10/dist-packages (from transformers) (4.66.1)\n",
            "Requirement already satisfied: fsspec>=2023.5.0 in /usr/local/lib/python3.10/dist-packages (from huggingface-hub<1.0,>=0.19.3->transformers) (2023.6.0)\n",
            "Requirement already satisfied: typing-extensions>=3.7.4.3 in /usr/local/lib/python3.10/dist-packages (from huggingface-hub<1.0,>=0.19.3->transformers) (4.5.0)\n",
            "Requirement already satisfied: charset-normalizer<4,>=2 in /usr/local/lib/python3.10/dist-packages (from requests->transformers) (3.3.2)\n",
            "Requirement already satisfied: idna<4,>=2.5 in /usr/local/lib/python3.10/dist-packages (from requests->transformers) (3.6)\n",
            "Requirement already satisfied: urllib3<3,>=1.21.1 in /usr/local/lib/python3.10/dist-packages (from requests->transformers) (2.0.7)\n",
            "Requirement already satisfied: certifi>=2017.4.17 in /usr/local/lib/python3.10/dist-packages (from requests->transformers) (2023.11.17)\n",
            "Installing collected packages: transformers\n",
            "  Attempting uninstall: transformers\n",
            "    Found existing installation: transformers 4.35.2\n",
            "    Uninstalling transformers-4.35.2:\n",
            "      Successfully uninstalled transformers-4.35.2\n",
            "Successfully installed transformers-4.37.2\n"
          ]
        }
      ],
      "source": [
        "!pip install transformers -U"
      ]
    },
    {
      "cell_type": "code",
      "source": [
        "import numpy as np\n",
        "import tensorflow as tf\n",
        "from transformers import pipeline\n",
        "from transformers import AutoTokenizer, AutoModelForSequenceClassification"
      ],
      "metadata": {
        "id": "34NmoLdEejQg"
      },
      "execution_count": null,
      "outputs": []
    },
    {
      "cell_type": "code",
      "source": [
        "def zero_shot_text(text, labels):\n",
        "  classifier = pipeline(\"zero-shot-classification\", model='cross-encoder/nli-deberta-v3-small')\n",
        "  sent = text\n",
        "  candidate_labels = labels\n",
        "  res = classifier(sent, candidate_labels)\n",
        "  print(res)\n",
        "  return res"
      ],
      "metadata": {
        "id": "R__wJ1ppgGqs"
      },
      "execution_count": null,
      "outputs": []
    },
    {
      "cell_type": "code",
      "source": [
        "text = ['LOREAL PROFESSIONNEL PARIS Absolut Repair Shampoo For Damaged & Weakend Hair, 300ML |Professional Hair Repairing Shampoo|Hair Strengthening Shampoo',\n",
        "        'Khadi Natural Amla & Bhringraj Shampoo/Cleanser for Controlling Dandruff & Hair fall | Shampoo for Reducing Scalp Irritation | Paraben & Sulphate-Free | Suitable for All Hair Types, 210ml']\n",
        "labels = [\"technology\", \"sports\", \"politics\", \"shampoo\", \"hair\", \"hair_care\", \"conditioner\"]\n",
        "result = zero_shot_text(text, labels)"
      ],
      "metadata": {
        "colab": {
          "base_uri": "https://localhost:8080/"
        },
        "id": "HTHZWhGCnj7E",
        "outputId": "569c3602-9dcc-485c-c754-a8ccc4f8c35c"
      },
      "execution_count": 41,
      "outputs": [
        {
          "output_type": "stream",
          "name": "stdout",
          "text": [
            "[{'sequence': 'LOREAL PROFESSIONNEL PARIS Absolut Repair Shampoo For Damaged & Weakend Hair, 300ML |Professional Hair Repairing Shampoo|Hair Strengthening Shampoo', 'labels': ['shampoo', 'hair_care', 'hair', 'technology', 'sports', 'conditioner', 'politics'], 'scores': [0.8484527468681335, 0.06693519651889801, 0.04958193749189377, 0.03214220702648163, 0.0018375006038695574, 0.0007355804555118084, 0.0003148007090203464]}, {'sequence': 'Khadi Natural Amla & Bhringraj Shampoo/Cleanser for Controlling Dandruff & Hair fall | Shampoo for Reducing Scalp Irritation | Paraben & Sulphate-Free | Suitable for All Hair Types, 210ml', 'labels': ['shampoo', 'hair_care', 'hair', 'technology', 'conditioner', 'sports', 'politics'], 'scores': [0.8522879481315613, 0.0976681336760521, 0.03424113243818283, 0.006271896418184042, 0.004656732548028231, 0.004035668447613716, 0.000838486070279032]}]\n"
          ]
        }
      ]
    },
    {
      "cell_type": "code",
      "source": [
        "def zero_shot_image()"
      ],
      "metadata": {
        "id": "xmXyY911qPPQ"
      },
      "execution_count": null,
      "outputs": []
    },
    {
      "cell_type": "code",
      "source": [],
      "metadata": {
        "id": "aEL6eH32qPc7"
      },
      "execution_count": null,
      "outputs": []
    },
    {
      "cell_type": "code",
      "source": [],
      "metadata": {
        "id": "4zkR_Z1kqPmZ"
      },
      "execution_count": null,
      "outputs": []
    },
    {
      "cell_type": "code",
      "source": [
        "# text = 'Apple just announced the newest iPhone X'\n",
        "# labels = [\"technology\", \"sports\", \"politics\"]\n",
        "# classifier = pipeline(\"zero-shot-classification\", model='cross-encoder/nli-deberta-v3-small')\n",
        "\n",
        "# sent = text\n",
        "# candidate_labels = labels\n",
        "# res = classifier(sent, candidate_labels)\n",
        "# print(res)"
      ],
      "metadata": {
        "id": "KzlXyAW_iS9r"
      },
      "execution_count": null,
      "outputs": []
    },
    {
      "cell_type": "code",
      "source": [
        "# pipe = pipeline(\n",
        "#     task='zero-shot-classification',\n",
        "#     model='ilos-vigil/bigbird-small-indonesian-nli'\n",
        "#     )\n",
        "# pipe(\n",
        "#     sequences='This is the latest Iphone 12',\n",
        "#     candidate_labels=['phone', 'computer', 'iphone', 'banana'],\n",
        "#     hypothesis_template='Kategori berita ini adalah {}.',\n",
        "#     multi_label=True\n",
        "# )"
      ],
      "metadata": {
        "id": "k_IJJ3yXhjV5"
      },
      "execution_count": null,
      "outputs": []
    },
    {
      "cell_type": "code",
      "source": [
        "# pipe = pipeline(\n",
        "#     task='text-classification',\n",
        "#     model='ilos-vigil/bigbird-small-indonesian-nli',\n",
        "#     return_all_scores=True\n",
        "# )\n",
        "\n",
        "# # pipe = pipeline(\n",
        "# #     task='zero-shot-classification',\n",
        "# #     model='ilos-vigil/bigbird-small-indonesian-nli'\n",
        "# # )\n",
        "# pipe({\n",
        "#     'text': 'This is new and sexy Iphone 12',\n",
        "#     'text_pair': 'Bananas are great!'\n",
        "# })"
      ],
      "metadata": {
        "id": "YfojHEPChmBE"
      },
      "execution_count": null,
      "outputs": []
    }
  ]
}