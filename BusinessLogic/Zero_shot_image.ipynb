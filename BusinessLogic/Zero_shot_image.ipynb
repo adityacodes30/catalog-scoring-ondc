{
  "nbformat": 4,
  "nbformat_minor": 0,
  "metadata": {
    "colab": {
      "provenance": [],
      "authorship_tag": "ABX9TyMdI7x6spjAJ3P2N+y1z0gk",
      "include_colab_link": true
    },
    "kernelspec": {
      "name": "python3",
      "display_name": "Python 3"
    },
    "language_info": {
      "name": "python"
    }
  },
  "cells": [
    {
      "cell_type": "markdown",
      "metadata": {
        "id": "view-in-github",
        "colab_type": "text"
      },
      "source": [
        "<a href=\"https://colab.research.google.com/github/payal15604/ONDC-Test/blob/main/Zero_shot_image.ipynb\" target=\"_parent\"><img src=\"https://colab.research.google.com/assets/colab-badge.svg\" alt=\"Open In Colab\"/></a>"
      ]
    },
    {
      "cell_type": "code",
      "source": [
        "# !pip install git+https://github.com/PrithivirajDamodaran/ZSIC.git"
      ],
      "metadata": {
        "colab": {
          "base_uri": "https://localhost:8080/"
        },
        "id": "Ihi1o4T-3Gx1",
        "outputId": "d181749a-eb03-42cf-96b5-407aed8bb452"
      },
      "execution_count": null,
      "outputs": [
        {
          "output_type": "stream",
          "name": "stdout",
          "text": [
            "Collecting git+https://github.com/PrithivirajDamodaran/ZSIC.git\n",
            "  Cloning https://github.com/PrithivirajDamodaran/ZSIC.git to /tmp/pip-req-build-f98fmnsm\n",
            "  Running command git clone --filter=blob:none --quiet https://github.com/PrithivirajDamodaran/ZSIC.git /tmp/pip-req-build-f98fmnsm\n",
            "  Resolved https://github.com/PrithivirajDamodaran/ZSIC.git to commit dbd1a8b7db5a7ec7fcab168e818681aa11fd95ca\n"
          ]
        }
      ]
    },
    {
      "cell_type": "code",
      "execution_count": null,
      "metadata": {
        "id": "LtlrZ4GY_Fyh"
      },
      "outputs": [],
      "source": [
        "from ZSIC import ZeroShotImageClassification\n",
        "\n",
        "zsic = ZeroShotImageClassification()\n",
        "\n",
        "\n",
        "#Predictions\n",
        "# preds = zsic(image=\"http://images.cocodataset.org/val2017/000000039769.jpg\",\n",
        "#             candidate_labels=[\"birds\", \"lions\", \"cats\",\"dogs\"],\n",
        "#             )\n",
        "# print(preds)"
      ]
    },
    {
      "cell_type": "code",
      "source": [
        "# #Predictions\n",
        "# preds = zsic(image=\"https://imgcdn.shortlyst.com/ondc?u=https%3A%2F%2Fcdn.shopify.com%2Fs%2Ffiles%2F1%2F0661%2F9732%2F4035%2Fproducts%2FSoulflower-Coffee-Soap.jpg%3Fv%3D1685470435\",\n",
        "#             candidate_labels=[\"birds\", \"lions\", \"cats\",\"dogs\", \"sauce\", \"soap\"],\n",
        "#             )\n",
        "# print(preds)"
      ],
      "metadata": {
        "id": "d00rsQeY_N3r"
      },
      "execution_count": null,
      "outputs": []
    },
    {
      "cell_type": "code",
      "source": [
        "def zero_shot_image(img, labels):\n",
        "  preds = zsic(\n",
        "      image = img,\n",
        "      candidate_labels = labels\n",
        "      )\n",
        "  print(preds)\n",
        "  return preds"
      ],
      "metadata": {
        "id": "xzM2csY-_QNC"
      },
      "execution_count": null,
      "outputs": []
    },
    {
      "cell_type": "code",
      "source": [
        "# image = \"https://images.heb.com/is/image/HEBGrocery/000970730\"\n",
        "# labels=[\"birds\", \"lions\", \"cats\",\"dogs\", \"sauce\", \"tea\", \"coffee\", \"drink\"]"
      ],
      "metadata": {
        "id": "fpmzhgBW_oYh"
      },
      "execution_count": null,
      "outputs": []
    },
    {
      "cell_type": "code",
      "source": [
        "# zero_shot_image(image, labels)"
      ],
      "metadata": {
        "id": "2gUcii-K_y9y"
      },
      "execution_count": null,
      "outputs": []
    },
    {
      "cell_type": "code",
      "source": [],
      "metadata": {
        "id": "64NUvZaGAJQP"
      },
      "execution_count": null,
      "outputs": []
    }
  ]
}